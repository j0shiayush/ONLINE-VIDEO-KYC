{
 "cells": [
  {
   "cell_type": "code",
   "execution_count": 2,
   "metadata": {},
   "outputs": [],
   "source": [
    "import json\n",
    "import pytesseract\n",
    "import cv2\n",
    "import numpy as np\n",
    "import sys\n",
    "import re\n",
    "import os\n",
    "from PIL import Image\n",
    "import ftfy\n",
    "import pan_read           \n",
    "'''module which we made to read the text of the document'''\n",
    "import aadhar_read\n",
    "import io"
   ]
  },
  {
   "cell_type": "code",
   "execution_count": 3,
   "metadata": {},
   "outputs": [],
   "source": [
    "img = cv2.imread(\"aadhar.png\")\n",
    "img = cv2.resize(img, None, fx=2, fy=2,interpolation=cv2.INTER_CUBIC)\n",
    "img = cv2.cvtColor(img, cv2.COLOR_BGR2GRAY)\n",
    "var = cv2.Laplacian(img, cv2.CV_64F).var()\n",
    "if var < 50:\n",
    "    print(\"Image is Too Blurry....\")\n",
    "    k= input('Press Enter to Exit.')\n",
    "    exit(1)"
   ]
  },
  {
   "cell_type": "code",
   "execution_count": 4,
   "metadata": {},
   "outputs": [],
   "source": [
    "from PIL import Image\n",
    "import easyocr\n",
    "import ftfy\n",
    "\n",
    "reader = easyocr.Reader(['en'])  # Initialize EasyOCR with English language\n",
    "\n",
    "filename = \"/Users/mathangy/Documents/OCR_models/aadhar.png\"\n",
    "result = reader.readtext(filename)  # Perform OCR on the image\n",
    "\n",
    "text_output = open('output.txt', 'w', encoding='utf-8')\n",
    "for detection in result:\n",
    "    text_output.write(detection[1] + '\\n')  # Write each detected text to the output file\n",
    "text_output.close()\n",
    "\n",
    "file = open('output.txt', 'r', encoding='utf-8')\n",
    "text = file.read()\n",
    "\n",
    "text = ftfy.fix_text(text)\n",
    "text = ftfy.fix_encoding(text)"
   ]
  },
  {
   "cell_type": "code",
   "execution_count": 5,
   "metadata": {},
   "outputs": [
    {
     "name": "stdout",
     "output_type": "stream",
     "text": [
      "Aadhar number is :0000 1111 2222 \n"
     ]
    }
   ],
   "source": [
    "if \"income\" in text.lower() or \"tax\" in text.lower() or \"department\" in text.lower():\n",
    "    data = pan_read.pan_read_data(text)\n",
    "elif \"male\" in text.lower():\n",
    "    data = aadhar_read.adhaar_read_data(text)"
   ]
  },
  {
   "cell_type": "code",
   "execution_count": 6,
   "metadata": {},
   "outputs": [],
   "source": [
    "try:\n",
    "    to_unicode = unicode\n",
    "except NameError:\n",
    "    to_unicode = str\n",
    "with io.open('info.json', 'w', encoding='utf-8') as outfile:\n",
    "    data = json.dumps(data, indent=4, sort_keys=True, separators=(',', ': '), ensure_ascii=False)\n",
    "    outfile.write(to_unicode(data))"
   ]
  },
  {
   "cell_type": "code",
   "execution_count": 7,
   "metadata": {},
   "outputs": [],
   "source": [
    "with open('info.json', encoding = 'utf-8') as data:\n",
    "    data_loaded = json.load(data)"
   ]
  },
  {
   "cell_type": "code",
   "execution_count": 8,
   "metadata": {},
   "outputs": [],
   "source": [
    "if data_loaded['ID Type'] == 'PAN':\n",
    "    print(\"\\n---------- PAN Details ----------\")\n",
    "    print(\"\\nPAN Number: \",data_loaded['PAN'])\n",
    "    print(\"\\nName: \",data_loaded['Name'])\n",
    "    print(\"\\nFather's Name: \",data_loaded['Father Name'])\n",
    "    print(\"\\nDate Of Birth: \",data_loaded['Date of Birth'])\n",
    "    print(\"\\n---------------------------------\")\n",
    "elif data_loaded['ID Type'] == 'Adhaar':\n",
    "    print(\"\\n---------- ADHAAR Details ----------\")\n",
    "    print(\"\\nADHAAR Number: \",data_loaded['Adhaar Number'])\n",
    "    print(\"\\nName: \",data_loaded['Name'])\n",
    "    print(\"\\nDate Of Birth: \",data_loaded['Date of Birth'])\n",
    "    print(\"\\nSex: \",data_loaded['Sex'])\n",
    "    print(\"\\n------------------------------------\")\n",
    "k = input(\"\\n\\nPress Enter To EXIT\")\n",
    "\n"
   ]
  },
  {
   "cell_type": "code",
   "execution_count": 8,
   "metadata": {},
   "outputs": [
    {
     "name": "stdout",
     "output_type": "stream",
     "text": [
      "{}\n"
     ]
    }
   ],
   "source": [
    "# Initialize an empty dictionary to store the details\n",
    "details = {}\n",
    "\n",
    "if data_loaded['ID Type'] == 'PAN':\n",
    "    details['ID Type'] = 'PAN'\n",
    "    details['PAN Number'] = data_loaded['PAN']\n",
    "    details['Name'] = data_loaded['Name']\n",
    "    details[\"Father's Name\"] = data_loaded['Father Name']\n",
    "    details['Date Of Birth'] = data_loaded['Date of Birth']\n",
    "elif data_loaded['ID Type'] == 'ADHAAR':\n",
    "    details['ID Type'] = 'ADHAAR'\n",
    "    details['ADHAAR Number'] = data_loaded['Adhaar Number']\n",
    "    details['Name'] = data_loaded['Name']\n",
    "    details['Date Of Birth'] = data_loaded['Date of Birth']\n",
    "    \n",
    "    details['Sex'] = data_loaded['Sex']\n",
    "\n",
    "# Now, details dictionary contains the information you need\n",
    "print(details)\n",
    "\n",
    "k = input(\"\\n\\nPress Enter To EXIT\")"
   ]
  }
 ],
 "metadata": {
  "kernelspec": {
   "display_name": "venv",
   "language": "python",
   "name": "python3"
  },
  "language_info": {
   "codemirror_mode": {
    "name": "ipython",
    "version": 3
   },
   "file_extension": ".py",
   "mimetype": "text/x-python",
   "name": "python",
   "nbconvert_exporter": "python",
   "pygments_lexer": "ipython3",
   "version": "3.11.4"
  }
 },
 "nbformat": 4,
 "nbformat_minor": 2
}
